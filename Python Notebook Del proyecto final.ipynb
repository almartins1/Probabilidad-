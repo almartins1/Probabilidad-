{
  "nbformat": 4,
  "nbformat_minor": 0,
  "metadata": {
    "colab": {
      "name": "Probabilidad.ipynb",
      "provenance": [],
      "collapsed_sections": []
    },
    "kernelspec": {
      "name": "python3",
      "display_name": "Python 3"
    },
    "language_info": {
      "name": "python"
    }
  },
  "cells": [
    {
      "cell_type": "code",
      "metadata": {
        "id": "SIzp8GeGHDvg"
      },
      "source": [
        "import matplotlib.pyplot as plt\n",
        "import numpy as np \n",
        "from scipy import stats \n",
        "import random\n",
        "import math \n",
        "from prettytable import PrettyTable"
      ],
      "execution_count": null,
      "outputs": []
    },
    {
      "cell_type": "code",
      "metadata": {
        "colab": {
          "base_uri": "https://localhost:8080/",
          "height": 295
        },
        "id": "17jhFjasF-Am",
        "outputId": "92750c76-984b-42b2-fa13-c81da61501ba"
      },
      "source": [
        "# Graficando Uniforme\n",
        "x = np.random.uniform(0,1,10000)\n",
        "fp = stats.uniform.pdf(x) # Función de Probabilidad\n",
        "fig, ax = plt.subplots()\n",
        "data=[]\n",
        "for i in range(10000):\n",
        "    data.append(random.random())\n",
        " \n",
        "#Graficación del histograma con la densidad superpuesta\n",
        "plt.hist(data,density=True,alpha=0.5, histtype='bar', ec='black')\n",
        "ax.plot(x, fp, linewidth=2,color='red')\n",
        "plt.title('Distribución números aleatorios-uniforme')\n",
        "plt.ylabel('probabilidad')\n",
        "plt.xlabel('valores')\n",
        "plt.show()"
      ],
      "execution_count": null,
      "outputs": [
        {
          "output_type": "display_data",
          "data": {
            "image/png": "[encoded data removed]",
            "text/plain": [
              "<Figure size 432x288 with 1 Axes>"
            ]
          },
          "metadata": {
            "tags": [],
            "needs_background": "light"
          }
        }
      ]
    },
    {
      "cell_type": "code",
      "metadata": {
        "id": "h_--udXx21a3",
        "colab": {
          "base_uri": "https://localhost:8080/",
          "height": 295
        },
        "outputId": "d69cbba5-986c-4bca-c0f1-bb15ee7a85f3"
      },
      "source": [
        "# #Numpy.random\n",
        "rng = np.random.default_rng()\n",
        "\n",
        "# Graficando Uniforme\n",
        "uniforme = stats.uniform()\n",
        "x = np.linspace(uniforme.ppf(0),\n",
        "                uniforme.ppf(1), 10000)\n",
        "fp = uniforme.pdf(x) # Función de Probabilidad\n",
        "fig, ax = plt.subplots()\n",
        "data=[]\n",
        "for i in range(10000):\n",
        "    data.append(rng.random())\n",
        "\n",
        "plt.hist(data,density=True,alpha=0.5, histtype='bar', ec='black')\n",
        "ax.plot(x, fp, '--',color='red')\n",
        "plt.title('Distribución números aleatorios-uniforme')\n",
        "plt.ylabel('probabilidad')\n",
        "plt.xlabel('valores')\n",
        "\n",
        "plt.show()\n"
      ],
      "execution_count": null,
      "outputs": [
        {
          "output_type": "display_data",
          "data": {
            "image/png": "[encoded data removed]",
            "text/plain": [
              "<Figure size 432x288 with 1 Axes>"
            ]
          },
          "metadata": {
            "tags": [],
            "needs_background": "light"
          }
        }
      ]
    },
    {
      "cell_type": "markdown",
      "metadata": {
        "id": "XTnXOCQPLvlz"
      },
      "source": [
        "Punto 2\n"
      ]
    },
    {
      "cell_type": "code",
      "metadata": {
        "colab": {
          "base_uri": "https://localhost:8080/",
          "height": 265
        },
        "id": "dy1NS0fWLvGD",
        "outputId": "b774f708-6165-49ef-f259-1b8f5931bdbd"
      },
      "source": [
        "#Función que calcula la función de masa de probabilidad de la variable aleatoria\n",
        "def masa_prob(x):\n",
        "    base=range(6,16)\n",
        "    \n",
        "    if x in base:\n",
        "        return 1/10\n",
        "    return 0\n",
        "\n",
        "#Función que calcula la función probabilidad acumulada de la variable aleatoria\n",
        "def acumm_prob(x):\n",
        "    prob={6:1/10,7:2/10,8:3/10,9:4/10,10:5/10,\n",
        "        11:6/10,12:7/10,13:8/10,14:9/10} #Definimos las probabilidades\n",
        "   \n",
        "    for i,j in prob.items():\n",
        "        if i+1>x>=i:\n",
        "            return prob[i]\n",
        "    if x>=15:\n",
        "        return 1\n",
        "    return 0\n",
        "\n",
        "#Función que simula la variable aleatoria\n",
        "def generator(x):\n",
        "    for i in range(5,16):\n",
        "        if acumm_prob(i)<x<=acumm_prob(i+1):\n",
        "            return i+1\n",
        "    return 1\n",
        "\n",
        "#Graficación del histograma \n",
        "data=[]\n",
        "for i in range(10000):\n",
        "    data.append(generator(random.random()))\n",
        "\n",
        "plt.hist(data,density=True,alpha=0.5,rwidth=0.5,align='left',bins=range(6,17))\n",
        "plt.show()\n",
        "\n"
      ],
      "execution_count": null,
      "outputs": [
        {
          "output_type": "display_data",
          "data": {
            "image/png": "[encoded data removed]",
            "text/plain": [
              "<Figure size 432x288 with 1 Axes>"
            ]
          },
          "metadata": {
            "tags": [],
            "needs_background": "light"
          }
        }
      ]
    },
    {
      "cell_type": "code",
      "metadata": {
        "colab": {
          "base_uri": "https://localhost:8080/",
          "height": 265
        },
        "id": "oA3dTCK1BsYM",
        "outputId": "e9f327fe-9f8c-4ead-f132-084a1ada989f"
      },
      "source": [
        "def generator(x):\n",
        "    return math.floor(x*10) + 6\n",
        "  \n",
        "data=[]\n",
        "for i in range(10000):\n",
        "    data.append(generator(random.random()))\n",
        "\n",
        "plt.hist(data,density=True,alpha=0.5,rwidth=0.5,align='left',bins=range(6,17))\n",
        "plt.show()\n"
      ],
      "execution_count": null,
      "outputs": [
        {
          "output_type": "display_data",
          "data": {
            "image/png": "[encoded data removed]",
            "text/plain": [
              "<Figure size 432x288 with 1 Axes>"
            ]
          },
          "metadata": {
            "tags": [],
            "needs_background": "light"
          }
        }
      ]
    },
    {
      "cell_type": "code",
      "metadata": {
        "colab": {
          "base_uri": "https://localhost:8080/",
          "height": 265
        },
        "id": "PA6Af2fHL4vd",
        "outputId": "937a2834-e8f8-4169-842c-bfdff5b1e2f7"
      },
      "source": [
        "#Graficación de la masa de probabilidad teorica\n",
        "masa=[]\n",
        "for i in range(5,17):\n",
        "    masa.append(masa_prob(i))\n",
        "\n",
        "plt.stem(range(5,17),masa,linefmt='red',use_line_collection=True)\n",
        "plt.show()"
      ],
      "execution_count": null,
      "outputs": [
        {
          "output_type": "display_data",
          "data": {
            "image/png": "[encoded data removed]",
            "text/plain": [
              "<Figure size 432x288 with 1 Axes>"
            ]
          },
          "metadata": {
            "tags": [],
            "needs_background": "light"
          }
        }
      ]
    },
    {
      "cell_type": "code",
      "metadata": {
        "colab": {
          "base_uri": "https://localhost:8080/",
          "height": 266
        },
        "id": "APE371mcMC7K",
        "outputId": "7f1d04ae-1343-45bc-c9d9-ec886e07dc25"
      },
      "source": [
        "#Función que calcula la probabilidad\n",
        "def value_prob():\n",
        "    d={1:1/506}\n",
        "    c=1/506\n",
        "    for i in range(2,12):\n",
        "        c+=i**2/506\n",
        "        d[i]=c\n",
        "    return d\n",
        "    \n",
        "#Definimos la probabilidad\n",
        "prob=value_prob()\n",
        "\n",
        "#Función que calcula la función de masa de probabilidad de la variable aleatoria\n",
        "def masa_prob(x):\n",
        "    base=range(1,12)\n",
        "    \n",
        "    if x in base:\n",
        "        return x**2/506\n",
        "    return 0\n",
        "\n",
        "#Función que calcula la función probabilidad acumulada de la variable aleatoria\n",
        "def acumm_prob(x):\n",
        "    global prob\n",
        "    for i,j in prob.items():\n",
        "        if i+1>x>=i:\n",
        "            return prob[i]\n",
        "    if x>=15:\n",
        "        return 1\n",
        "    return 0\n",
        "\n",
        "#Función que simula la variable aleatoria\n",
        "def generator(x):\n",
        "    for i in range(1,12):\n",
        "        if acumm_prob(i)<x<=acumm_prob(i+1):\n",
        "            return i+1\n",
        "    return 1\n",
        "\n",
        "#Graficación del histograma\n",
        "data=[]\n",
        "for i in range(10000):\n",
        "    data.append(generator(random.random()))\n",
        "\n",
        "plt.hist(data,density=True,alpha=0.5,rwidth=0.5,align='left',bins=range(1,13))\n",
        "plt.show()\n"
      ],
      "execution_count": null,
      "outputs": [
        {
          "output_type": "display_data",
          "data": {
            "image/png": "[encoded data removed]",
            "text/plain": [
              "<Figure size 432x288 with 1 Axes>"
            ]
          },
          "metadata": {
            "tags": [],
            "needs_background": "light"
          }
        }
      ]
    },
    {
      "cell_type": "code",
      "metadata": {
        "colab": {
          "base_uri": "https://localhost:8080/",
          "height": 268
        },
        "id": "xOBSFIJmMCoT",
        "outputId": "85ebc6f1-0eef-498c-bcfe-3f1cb9931af2"
      },
      "source": [
        "#Graficación de la masa de probabilidad teorica\n",
        "masa=[]\n",
        "for i in range(0,13):\n",
        "    masa.append(masa_prob(i))\n",
        "\n",
        "plt.stem(range(0,13),masa,linefmt='red',use_line_collection=True)\n",
        "plt.show()"
      ],
      "execution_count": null,
      "outputs": [
        {
          "output_type": "display_data",
          "data": {
            "image/png": "[encoded data removed]",
            "text/plain": [
              "<Figure size 432x288 with 1 Axes>"
            ]
          },
          "metadata": {
            "tags": [],
            "needs_background": "light"
          }
        }
      ]
    },
    {
      "cell_type": "code",
      "metadata": {
        "colab": {
          "base_uri": "https://localhost:8080/",
          "height": 337
        },
        "id": "qh2WSJ6dMNCL",
        "outputId": "13e93c33-dc01-4348-dd30-7a116e0ef5b9"
      },
      "source": [
        "#Definimos la probabilidad\n",
        "prob=11/16\n",
        "\n",
        "#Función que calcula la función de masa de probabilidad de la variable aleatoria\n",
        "def masa_prob(x):\n",
        "    global prob\n",
        "\n",
        "    return ((1-prob)**x)*prob\n",
        "    \n",
        "#Función que calcula la función probabilidad acumulada de la variable aleatoria\n",
        "def acumm_prob(x):\n",
        "    global prob\n",
        "    return 1-((1-prob)**(int(x)))\n",
        "\n",
        "#Función que simula la variable aleatoria\n",
        "def generator(x):\n",
        "    for i in range(0,11):\n",
        "        if acumm_prob(i)<x<=acumm_prob(i+1):\n",
        "            return i\n",
        "    return 1\n",
        "\n",
        "#Graficación del histograma\n",
        "data=[]\n",
        "for i in range(10000):\n",
        "    data.append(generator(random.random()))\n",
        "\n",
        "plt.hist(data,density=True,alpha=0.5,rwidth=0.5,align='left',bins=range(0,13))\n",
        "plt.show()\n"
      ],
      "execution_count": null,
      "outputs": [
        {
          "output_type": "execute_result",
          "data": {
            "text/plain": [
              "(array([6.916e-01, 2.159e-01, 6.190e-02, 2.140e-02, 6.200e-03, 2.000e-03,\n",
              "        9.000e-04, 1.000e-04, 0.000e+00, 0.000e+00, 0.000e+00, 0.000e+00]),\n",
              " array([ 0,  1,  2,  3,  4,  5,  6,  7,  8,  9, 10, 11, 12]),\n",
              " <a list of 12 Patch objects>)"
            ]
          },
          "metadata": {
            "tags": []
          },
          "execution_count": 9
        },
        {
          "output_type": "display_data",
          "data": {
            "image/png": "[encoded data removed]",
            "text/plain": [
              "<Figure size 432x288 with 1 Axes>"
            ]
          },
          "metadata": {
            "tags": [],
            "needs_background": "light"
          }
        }
      ]
    },
    {
      "cell_type": "code",
      "metadata": {
        "colab": {
          "base_uri": "https://localhost:8080/",
          "height": 265
        },
        "id": "jg1DklYdMM1D",
        "outputId": "54b40b34-6215-49f0-8fc9-51edf63ffff0"
      },
      "source": [
        "#Graficación de la masa de probabilidad teorica\n",
        "masa=[]\n",
        "for i in range(0,10):\n",
        "    masa.append(masa_prob(i))\n",
        "\n",
        "plt.stem(range(0,10),masa,linefmt='red',use_line_collection=True)\n",
        "plt.show()\n"
      ],
      "execution_count": null,
      "outputs": [
        {
          "output_type": "display_data",
          "data": {
            "image/png": "[encoded data removed]",
            "text/plain": [
              "<Figure size 432x288 with 1 Axes>"
            ]
          },
          "metadata": {
            "tags": [],
            "needs_background": "light"
          }
        }
      ]
    },
    {
      "cell_type": "code",
      "metadata": {
        "colab": {
          "base_uri": "https://localhost:8080/",
          "height": 265
        },
        "id": "Ha7gAuwtMR8r",
        "outputId": "86ff99df-ccf3-4d55-821a-e8289281f4e8"
      },
      "source": [
        "#Definimos la probabilidad\n",
        "prob=1/11\n",
        "\n",
        "#Función que calcula la función de masa de probabilidad de la variable aleatoria\n",
        "def masa_prob(x):\n",
        "    global prob\n",
        "    if x>=0:\n",
        "        return prob*math.exp(-prob*x)\n",
        "    return 0\n",
        "\n",
        "#Función que calcula la función probabilidad acumulada de la variable aleatoria\n",
        "def acumm_prob(x):\n",
        "    global prob\n",
        "    if x>=0:\n",
        "        return 1-math.exp(-prob*x)\n",
        "    return 0\n",
        "\n",
        "#Función que simula la variable aleatoria\n",
        "def generator(x):\n",
        "    global prob\n",
        "    return math.log(1-x)/-prob\n",
        "    \n",
        "#Graficación del histograma con la densidad superpuesta\n",
        "data=[]\n",
        "for i in range(10000):\n",
        "    data.append(generator(random.random()))\n",
        "\n",
        "plt.hist(data,density=True,alpha=0.5,bins=50,histtype='bar',\n",
        "         ec='black')\n",
        "\n",
        "dominio=np.arange(-0.5,100,0.001)\n",
        "masa=[]\n",
        "\n",
        "for i in dominio:\n",
        "    masa.append(masa_prob(i))\n",
        "\n",
        "plt.plot(dominio,masa)\n",
        "\n",
        "plt.show()\n",
        "acumm=[]"
      ],
      "execution_count": null,
      "outputs": [
        {
          "output_type": "display_data",
          "data": {
            "image/png": "[encoded data removed]",
            "text/plain": [
              "<Figure size 432x288 with 1 Axes>"
            ]
          },
          "metadata": {
            "tags": [],
            "needs_background": "light"
          }
        }
      ]
    },
    {
      "cell_type": "code",
      "metadata": {
        "colab": {
          "base_uri": "https://localhost:8080/",
          "height": 265
        },
        "id": "eQnaUukiMRwi",
        "outputId": "e9ca9afe-fae9-4886-c200-21addfe3e87d"
      },
      "source": [
        "acumm=[]\n",
        "\n",
        "for i in dominio:\n",
        "    acumm.append(acumm_prob(i))\n",
        "\n",
        "plt.plot(dominio,acumm)\n",
        "plt.show()"
      ],
      "execution_count": null,
      "outputs": [
        {
          "output_type": "display_data",
          "data": {
            "image/png": "[encoded data removed]",
            "text/plain": [
              "<Figure size 432x288 with 1 Axes>"
            ]
          },
          "metadata": {
            "tags": [],
            "needs_background": "light"
          }
        }
      ]
    },
    {
      "cell_type": "code",
      "metadata": {
        "colab": {
          "base_uri": "https://localhost:8080/",
          "height": 265
        },
        "id": "XX2xBW3xHEfY",
        "outputId": "94924aec-ec1f-4b50-d853-c9ed1b5d8371"
      },
      "source": [
        "#Función que calcula la función de masa de probabilidad de la variable aleatoria\n",
        "def masa_prob(x):\n",
        "    \n",
        "    if (x>=0 and  x<=2) or (x>=4 and  x<=6):\n",
        "        return 1/4\n",
        "    return 0\n",
        "\n",
        "#Función que calcula la función probabilidad acumulada de la variable aleatoria\n",
        "def acumm_prob(x):\n",
        "    \n",
        "    if x>=0 and x<=2:\n",
        "        return x/4\n",
        "    elif x>2 and x<4:\n",
        "        return 1/2\n",
        "    elif x>=4 and x<=6:\n",
        "        return x/4-1/2\n",
        "    elif x>6:\n",
        "        return 1\n",
        "    return 0\n",
        "\n",
        "#Función que simula la variable aleatoria\n",
        "def generator(x):\n",
        "    if x<1/2:\n",
        "        return 4*x\n",
        "    return 4*(x+1/2)\n",
        "    \n",
        "#Graficación del histograma con la densidad superpuesta\n",
        "data=[]\n",
        "for i in range(10000):\n",
        "    data.append(generator(random.random()))\n",
        "\n",
        "plt.hist(data,density=True,alpha=0.5,bins=30,histtype='bar', ec='black')\n",
        "\n",
        "dominio=np.arange(-0.5,8,0.001)\n",
        "masa=[]\n",
        "\n",
        "for i in dominio:\n",
        "    masa.append(masa_prob(i))\n",
        "\n",
        "plt.plot(dominio,masa)\n",
        "plt.show()\n"
      ],
      "execution_count": null,
      "outputs": [
        {
          "output_type": "display_data",
          "data": {
            "image/png": "[encoded data removed]",
            "text/plain": [
              "<Figure size 432x288 with 1 Axes>"
            ]
          },
          "metadata": {
            "tags": [],
            "needs_background": "light"
          }
        }
      ]
    },
    {
      "cell_type": "code",
      "metadata": {
        "colab": {
          "base_uri": "https://localhost:8080/",
          "height": 265
        },
        "id": "JkkKNMKHP5cp",
        "outputId": "4199882c-e685-4f4e-a63c-5cc8aee7d482"
      },
      "source": [
        "acumm=[]\n",
        "\n",
        "for i in dominio:\n",
        "    acumm.append(acumm_prob(i))\n",
        "\n",
        "plt.plot(dominio,acumm)\n",
        "\n",
        "plt.show()"
      ],
      "execution_count": null,
      "outputs": [
        {
          "output_type": "display_data",
          "data": {
            "image/png": "[encoded data removed]",
            "text/plain": [
              "<Figure size 432x288 with 1 Axes>"
            ]
          },
          "metadata": {
            "tags": [],
            "needs_background": "light"
          }
        }
      ]
    },
    {
      "cell_type": "code",
      "metadata": {
        "id": "EMXAObBWVyZB",
        "colab": {
          "base_uri": "https://localhost:8080/",
          "height": 269
        },
        "outputId": "b6f896e2-d9a9-44a1-f8c2-039ec466f7cf"
      },
      "source": [
        "#Función que calcula la función de masa de probabilidad de la variable aleatoria\n",
        "def masa_prob(x):\n",
        "    \n",
        "    if (x>=0 and  x<=10) :\n",
        "        return x/150\n",
        "    elif (x>=10 and  x<=30) :\n",
        "        return 1/10-x/300\n",
        "    return 0\n",
        "\n",
        "#Función que calcula la función probabilidad acumulada de la variable aleatoria\n",
        "def acumm_prob(x):\n",
        "    \n",
        "    if x>=0 and x<=10:\n",
        "        return x**2/300\n",
        "    elif x>10 and x<=30:\n",
        "        return x/10+(-x**2)/600-1/2\n",
        "    elif x>30:\n",
        "        return 1\n",
        "    return 0\n",
        "\n",
        "#Función que simula la variable aleatoria\n",
        "def generator(x):\n",
        "    if x<=1/3:\n",
        "        return (x*300)**(1/2)\n",
        "    b=-60\n",
        "    c=-2400\n",
        "    z1=-(b+(c*x-c)**(1/2))/2\n",
        "    \n",
        "    return z1\n",
        "   \n",
        "    \n",
        "#Graficación del histograma con la densidad superpuesta\n",
        "data=[]\n",
        "for i in range(10000):\n",
        "    data.append(generator(random.random()))\n",
        "\n",
        "plt.hist(data,density=True,alpha=0.5,bins=30,histtype='bar', ec='black')\n",
        "\n",
        "dominio=np.arange(-0.5,40,0.001)\n",
        "masa=[]\n",
        "\n",
        "for i in dominio:\n",
        "    masa.append(masa_prob(i))\n",
        "\n",
        "plt.plot(dominio,masa)\n",
        "plt.show()\n"
      ],
      "execution_count": null,
      "outputs": [
        {
          "output_type": "display_data",
          "data": {
            "image/png": "[encoded data removed]",
            "text/plain": [
              "<Figure size 432x288 with 1 Axes>"
            ]
          },
          "metadata": {
            "tags": [],
            "needs_background": "light"
          }
        }
      ]
    },
    {
      "cell_type": "code",
      "metadata": {
        "colab": {
          "base_uri": "https://localhost:8080/",
          "height": 265
        },
        "id": "B9T6VZL6bN9b",
        "outputId": "78dc18fa-11b3-4ada-a718-049f2f677747"
      },
      "source": [
        "acumm=[]\n",
        "\n",
        "for i in dominio:\n",
        "    acumm.append(acumm_prob(i))\n",
        "\n",
        "plt.plot(dominio,acumm)\n",
        "plt.show()"
      ],
      "execution_count": null,
      "outputs": [
        {
          "output_type": "display_data",
          "data": {
            "image/png": "[encoded data removed]",
            "text/plain": [
              "<Figure size 432x288 with 1 Axes>"
            ]
          },
          "metadata": {
            "tags": [],
            "needs_background": "light"
          }
        }
      ]
    },
    {
      "cell_type": "code",
      "metadata": {
        "colab": {
          "base_uri": "https://localhost:8080/",
          "height": 265
        },
        "id": "Vl0Xj9MFc9Yk",
        "outputId": "cde8fc6c-d376-43e1-d2c0-4aa8a25e9b30"
      },
      "source": [
        "#Simulación de la variable aleatoria para m=10000 \n",
        "simY=[]\n",
        "\n",
        "for i in range(0,10000):\n",
        "  simY.append(np.exp(np.random.normal()))\n",
        "\n",
        "#Función que calcula la función de densidad de una distribución lognormal\n",
        "def log_normal(x,media,var):\n",
        "    ex=np.exp(-(np.log(x)-media)**2/(2*var))\n",
        "    distribucion=ex/(x*(var*2*np.pi)**0.5)\n",
        "    return distribucion\n",
        "\n",
        "#Graficación de del histograma de variable aleatoria del ejercicio 1, con la función de densidad de una distribución lognormal superpuesta\n",
        "dominio=np.arange(0.001,12,0.001)\n",
        "rango=log_normal(dominio,0.3,0.5)\n",
        "data=np.random.normal(0.3,0.5**0.5,10000)\n",
        "y=np.exp(data)\n",
        "plt.hist(y,density=True,alpha=0.5, histtype='bar', ec='black',bins=np.linspace(0,11,50))\n",
        "plt.plot(dominio,rango)\n",
        "plt.show()"
      ],
      "execution_count": null,
      "outputs": [
        {
          "output_type": "display_data",
          "data": {
            "image/png": "[encoded data removed]",
            "text/plain": [
              "<Figure size 432x288 with 1 Axes>"
            ]
          },
          "metadata": {
            "tags": [],
            "needs_background": "light"
          }
        }
      ]
    },
    {
      "cell_type": "code",
      "metadata": {
        "colab": {
          "base_uri": "https://localhost:8080/"
        },
        "id": "BUq2jPByemhF",
        "outputId": "676dcb3b-dc89-419a-dabb-7c1463cc6198"
      },
      "source": [
        "#Función que calcula los momentos, de manera teorica, de la variable aleatoria dada en el ejercicio 1 y 2\n",
        "def momentos(r,media,var):\n",
        "    return np.exp(media*r+var*r**2/2)\n",
        "print(\"Teorico : \",momentos(1,0.3,0.5),momentos(2,0.3,0.5),momentos(5,0.3,0.5))\n",
        "\n",
        "#Función que calcula los momentos, usando el metodo 3, de la varianle aleatoria dada en el ejercicio 1 y 2\n",
        "def metodo3(r,moment):\n",
        "    data=np.random.normal(0.3,0.5**0.5,r)\n",
        "    y=np.exp(data)**moment\n",
        "    return np.sum(y)/r\n",
        "x = PrettyTable() #Impresión de los datos en una tabla\n",
        "x.field_names = [\"  \",\"E[Y]\", \"E[Y**2]\", \"E[Y**5]\"]\n",
        "for i in [10,100,1000, 10000]:\n",
        "    x.add_row([\"r=\"+str(i),metodo3(i,1),metodo3(i,2),metodo3(i,5)])\n",
        "print(x)\n"
      ],
      "execution_count": null,
      "outputs": [
        {
          "output_type": "stream",
          "text": [
            "Teorico :  1.7332530178673953 4.953032424395115 2321.572414611057\n",
            "+---------+--------------------+-------------------+--------------------+\n",
            "|         |        E[Y]        |      E[Y**2]      |      E[Y**5]       |\n",
            "+---------+--------------------+-------------------+--------------------+\n",
            "|   r=10  | 1.3444137100993072 |  5.00678202048511 | 865.2723162975966  |\n",
            "|  r=100  | 1.5506652129110532 | 4.661215255073883 | 202.44471993001963 |\n",
            "|  r=1000 | 1.8331050442095638 |  4.5160675600047  | 563.0206105337862  |\n",
            "| r=10000 | 1.7216685985664089 | 4.942152883851573 | 927.3084307338839  |\n",
            "+---------+--------------------+-------------------+--------------------+\n"
          ],
          "name": "stdout"
        }
      ]
    },
    {
      "cell_type": "code",
      "metadata": {
        "colab": {
          "base_uri": "https://localhost:8080/",
          "height": 778
        },
        "id": "7dCT8x-9QVLq",
        "outputId": "07e29dbd-fa1d-4a43-81c9-5708fa01de81"
      },
      "source": [
        "#Función simulación, que utiliza el método 3 para m realizaciones independientes para un cierto r, y un momento definido\n",
        "def simulation(m,r,moment):\n",
        "    result=[]\n",
        "    for i in range(m):\n",
        "        result.append(metodo3(r,moment))\n",
        "    \n",
        "    return result\n",
        "\n",
        "#Evaluación y graficación para r=10,100,1000 y 10000, con m=10000\n",
        "plt.hist(simulation(10000,10,1),alpha=0.5, histtype='bar', ec='black',bins=np.linspace(0.5,4,50))\n",
        "plt.axvline(x=momentos(1,0.3,0.5), ymin=0, ymax=8000,color=\"red\")\n",
        "plt.grid()\n",
        "plt.show()\n",
        "\n",
        "plt.hist(simulation(10000,100,1),alpha=0.5, histtype='bar', ec='black',bins=np.linspace(1.3,2.5,50))\n",
        "plt.axvline(x=momentos(1,0.3,0.5), ymin=0, ymax=8000,color=\"red\")\n",
        "plt.grid()\n",
        "plt.show()\n",
        "\n",
        "plt.hist(simulation(10000,1000,1),alpha=0.5, histtype='bar', ec='black',bins=np.linspace(1.5,2,50))\n",
        "plt.axvline(x=momentos(1,0.3,0.5), ymin=0, ymax=8000,color=\"red\")\n",
        "plt.grid()\n",
        "plt.show()\n",
        "print(\"\")"
      ],
      "execution_count": null,
      "outputs": [
        {
          "output_type": "display_data",
          "data": {
            "image/png": "[encoded data removed]",
            "text/plain": [
              "<Figure size 432x288 with 1 Axes>"
            ]
          },
          "metadata": {
            "tags": [],
            "needs_background": "light"
          }
        },
        {
          "output_type": "display_data",
          "data": {
            "image/png": "[encoded data removed]",
            "text/plain": [
              "<Figure size 432x288 with 1 Axes>"
            ]
          },
          "metadata": {
            "tags": [],
            "needs_background": "light"
          }
        },
        {
          "output_type": "display_data",
          "data": {
            "image/png": "[encoded data removed]",
            "text/plain": [
              "<Figure size 432x288 with 1 Axes>"
            ]
          },
          "metadata": {
            "tags": [],
            "needs_background": "light"
          }
        },
        {
          "output_type": "stream",
          "text": [
            "\n"
          ],
          "name": "stdout"
        }
      ]
    },
    {
      "cell_type": "code",
      "metadata": {
        "colab": {
          "base_uri": "https://localhost:8080/",
          "height": 1000
        },
        "id": "Sgs8k-HYdaoz",
        "outputId": "e325674a-c18c-4f1e-a939-8eca9357ced6"
      },
      "source": [
        "#Función que implementa el método 3 para distribución de Cauchy\n",
        "\n",
        "def cauchy(r,m):\n",
        "    result=[]\n",
        "    for i in range(m):\n",
        "        a=np.random.standard_cauchy(r)\n",
        "        result.append(np.sum(1/a)/r)\n",
        "    return result\n",
        "\n",
        "#Evaluación y graficación para r=10,100,1000 y 10000, con m=10000\n",
        "plt.hist(cauchy(10,10000),density=True,alpha=0.5, histtype='bar', ec='black',bins=np.linspace(-10,10,70))\n",
        "plt.grid()\n",
        "plt.show()\n",
        "\n",
        "plt.hist(cauchy(100,10000),density=True,alpha=0.5, histtype='bar', ec='black',bins=np.linspace(-10,10,70))\n",
        "plt.grid()\n",
        "plt.show()\n",
        "\n",
        "plt.hist(cauchy(1000,10000),density=True,alpha=0.5, histtype='bar', ec='black',bins=np.linspace(-10,10,70))\n",
        "plt.grid()\n",
        "plt.show()\n",
        "\n",
        "plt.hist(cauchy(10000,10000),density=True,alpha=0.5, histtype='bar', ec='black',bins=np.linspace(-10,10,70))\n",
        "plt.grid()\n",
        "plt.show()"
      ],
      "execution_count": null,
      "outputs": [
        {
          "output_type": "display_data",
          "data": {
            "image/png": "[encoded data removed]",
            "text/plain": [
              "<Figure size 432x288 with 1 Axes>"
            ]
          },
          "metadata": {
            "tags": [],
            "needs_background": "light"
          }
        },
        {
          "output_type": "display_data",
          "data": {
            "image/png": "[encoded data removed]",
            "text/plain": [
              "<Figure size 432x288 with 1 Axes>"
            ]
          },
          "metadata": {
            "tags": [],
            "needs_background": "light"
          }
        },
        {
          "output_type": "display_data",
          "data": {
            "image/png": "[encoded data removed]",
            "text/plain": [
              "<Figure size 432x288 with 1 Axes>"
            ]
          },
          "metadata": {
            "tags": [],
            "needs_background": "light"
          }
        },
        {
          "output_type": "display_data",
          "data": {
            "image/png": "[encoded data removed]",
            "text/plain": [
              "<Figure size 432x288 with 1 Axes>"
            ]
          },
          "metadata": {
            "tags": [],
            "needs_background": "light"
          }
        }
      ]
    },
    {
      "cell_type": "code",
      "metadata": {
        "colab": {
          "base_uri": "https://localhost:8080/"
        },
        "id": "AEodHBZ_XVhT",
        "outputId": "a026989f-d9a5-41ee-933a-b722906a4c94"
      },
      "source": [
        "#Función para integrar con método 3, para la primera integral\n",
        "def metodo3e2(a,b,r):\n",
        "    data=np.random.uniform(a,b,r)\n",
        "    y=1/((data)**5+1)\n",
        "    return (b-a)*np.sum(y)/r\n",
        "\n",
        "#Evaluación para r=10,100,1000 y 10000\n",
        "print(metodo3e2(11,21,10))\n",
        "print(metodo3e2(11,21,100))\n",
        "print(metodo3e2(11,21,1000))\n",
        "print(metodo3e2(11,21,10000))"
      ],
      "execution_count": null,
      "outputs": [
        {
          "output_type": "stream",
          "text": [
            "1.9781481544828527e-05\n",
            "1.4735494467711448e-05\n",
            "1.6183919847656578e-05\n",
            "1.597957141753461e-05\n"
          ],
          "name": "stdout"
        }
      ]
    },
    {
      "cell_type": "code",
      "metadata": {
        "colab": {
          "base_uri": "https://localhost:8080/"
        },
        "id": "DURVvaJiWbFL",
        "outputId": "d7bcf97d-db99-4412-f604-9d2d97da8618"
      },
      "source": [
        "#Función para integrar con método 3, para la segunda integral\n",
        "def metodo3e4(a,b,r):\n",
        "    data=np.random.uniform(a,b,r)\n",
        "    y=1/(np.log(data))\n",
        "    return (b-a)*np.sum(y)/r\n",
        "    \n",
        "#Evaluación para r=10,100,1000 y 10000\n",
        "print(metodo3e4(12,100,10))\n",
        "print(metodo3e4(12,100,100))\n",
        "print(metodo3e4(12,100,1000))\n",
        "print(metodo3e4(12,100,10000))\n",
        "\n"
      ],
      "execution_count": null,
      "outputs": [
        {
          "output_type": "stream",
          "text": [
            "21.199006846392983\n",
            "23.28632065667861\n",
            "23.268397733970108\n",
            "23.172638188971725\n"
          ],
          "name": "stdout"
        }
      ]
    },
    {
      "cell_type": "code",
      "metadata": {
        "colab": {
          "base_uri": "https://localhost:8080/"
        },
        "id": "m44jFXnQYnDS",
        "outputId": "33f0faa2-0c3b-40de-879c-f216205202ec"
      },
      "source": [
        "#Función para integrar con método 3, para la tercera integral\n",
        "def metodo3e7(a,b,r):\n",
        "    data=np.random.uniform(a,b,r)\n",
        "    y=np.sqrt((np.exp(data**2)+np.tan(data)))\n",
        "    return (b-a)*np.sum(y)/r\n",
        "    \n",
        "#Evaluación para r=10,100,1000 y 10000\n",
        "print(metodo3e7(0,1,10))\n",
        "print(metodo3e7(0,1,100))\n",
        "print(metodo3e7(0,1,1000))\n",
        "print(metodo3e7(0,1,10000))\n"
      ],
      "execution_count": null,
      "outputs": [
        {
          "output_type": "stream",
          "text": [
            "1.4520957357474535\n",
            "1.3774719940898827\n",
            "1.420166270855756\n",
            "1.4141206199116703\n"
          ],
          "name": "stdout"
        }
      ]
    }
  ]
}