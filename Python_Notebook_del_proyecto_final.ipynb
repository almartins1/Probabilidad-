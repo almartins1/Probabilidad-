{
  "nbformat": 4,
  "nbformat_minor": 0,
  "metadata": {
    "colab": {
      "name": "Copia de Probabilidad.ipynb",
      "provenance": [],
      "collapsed_sections": []
    },
    "kernelspec": {
      "name": "python3",
      "display_name": "Python 3"
    },
    "language_info": {
      "name": "python"
    }
  },
  "cells": [
    {
      "cell_type": "code",
      "metadata": {
        "id": "SIzp8GeGHDvg"
      },
      "source": [
        "import matplotlib.pyplot as plt\n",
        "import numpy as np \n",
        "from scipy import stats \n",
        "import random\n",
        "import math \n",
        "from prettytable import PrettyTable"
      ],
      "execution_count": 1,
      "outputs": []
    },
    {
      "cell_type": "markdown",
      "metadata": {
        "id": "-KC8ekdlUYlO"
      },
      "source": [
        "#Punto A"
      ]
    },
    {
      "cell_type": "code",
      "metadata": {
        "colab": {
          "base_uri": "https://localhost:8080/",
          "height": 295
        },
        "id": "17jhFjasF-Am",
        "outputId": "21bd1cf5-f7a9-45e5-b692-6444e72fb377"
      },
      "source": [
        "# Graficando Uniforme\n",
        "x = np.random.uniform(0,1,10000)\n",
        "fp = stats.uniform.pdf(x) # Función de Probabilidad\n",
        "fig, ax = plt.subplots()\n",
        "data=[]\n",
        "for i in range(10000):\n",
        "    data.append(random.random())\n",
        " \n",
        "#Graficación del histograma con la densidad superpuesta\n",
        "plt.hist(data,density=True,alpha=0.5, histtype='bar', ec='black')\n",
        "ax.plot(x, fp, linewidth=2,color='red')\n",
        "plt.title('Distribución números aleatorios-uniforme')\n",
        "plt.ylabel('probabilidad')\n",
        "plt.xlabel('valores')\n",
        "plt.show()"
      ],
      "execution_count": 2,
      "outputs": [
        {
          "output_type": "display_data",
          "data": {
            "image/png": "[encoded data removed]",
            "text/plain": [
              "<Figure size 432x288 with 1 Axes>"
            ]
          },
          "metadata": {
            "tags": [],
            "needs_background": "light"
          }
        }
      ]
    },
    {
      "cell_type": "code",
      "metadata": {
        "id": "h_--udXx21a3",
        "colab": {
          "base_uri": "https://localhost:8080/",
          "height": 295
        },
        "outputId": "4dc467a4-31de-4f8e-a55f-3a62f7f3e6d9"
      },
      "source": [
        "# #Numpy.random\n",
        "rng = np.random.default_rng()\n",
        "\n",
        "# Graficando Uniforme\n",
        "uniforme = stats.uniform()\n",
        "x = np.linspace(uniforme.ppf(0),\n",
        "                uniforme.ppf(1), 10000)\n",
        "fp = uniforme.pdf(x) # Función de Probabilidad\n",
        "fig, ax = plt.subplots()\n",
        "data=[]\n",
        "for i in range(10000):\n",
        "    data.append(rng.random())\n",
        "\n",
        "plt.hist(data,density=True,alpha=0.5, histtype='bar', ec='black')\n",
        "ax.plot(x, fp, '--',color='red')\n",
        "plt.title('Distribución números aleatorios-uniforme')\n",
        "plt.ylabel('probabilidad')\n",
        "plt.xlabel('valores')\n",
        "\n",
        "plt.show()\n"
      ],
      "execution_count": 3,
      "outputs": [
        {
          "output_type": "display_data",
          "data": {
            "image/png": "[encoded data removed]",
            "text/plain": [
              "<Figure size 432x288 with 1 Axes>"
            ]
          },
          "metadata": {
            "tags": [],
            "needs_background": "light"
          }
        }
      ]
    },
    {
      "cell_type": "markdown",
      "metadata": {
        "id": "cjZrGn-HUybF"
      },
      "source": [
        "# Punto B"
      ]
    },
    {
      "cell_type": "markdown",
      "metadata": {
        "id": "Ftym5N67WZo9"
      },
      "source": [
        "Ejercicio 1"
      ]
    },
    {
      "cell_type": "code",
      "metadata": {
        "colab": {
          "base_uri": "https://localhost:8080/",
          "height": 265
        },
        "id": "dy1NS0fWLvGD",
        "outputId": "65e60d29-3637-4808-8a98-e5ff69bc60ec"
      },
      "source": [
        "#Función que calcula la función de masa de probabilidad de la variable aleatoria\n",
        "def masa_prob(x):\n",
        "    base=range(6,16)\n",
        "    \n",
        "    if x in base:\n",
        "        return 1/10\n",
        "    return 0\n",
        "\n",
        "#Función que calcula la función probabilidad acumulada de la variable aleatoria\n",
        "def acumm_prob(x):\n",
        "    prob={6:1/10,7:2/10,8:3/10,9:4/10,10:5/10,\n",
        "        11:6/10,12:7/10,13:8/10,14:9/10} #Definimos las probabilidades\n",
        "   \n",
        "    for i,j in prob.items():\n",
        "        if i+1>x>=i:\n",
        "            return prob[i]\n",
        "    if x>=15:\n",
        "        return 1\n",
        "    return 0\n",
        "\n",
        "#Función que simula la variable aleatoria\n",
        "def generator(x):\n",
        "    for i in range(5,16):\n",
        "        if acumm_prob(i)<x<=acumm_prob(i+1):\n",
        "            return i+1\n",
        "    return 1\n",
        "\n",
        "#Graficación del histograma \n",
        "data=[]\n",
        "for i in range(10000):\n",
        "    data.append(generator(random.random()))\n",
        "\n",
        "plt.hist(data,density=True,alpha=0.5,rwidth=0.5,align='left',bins=range(6,17))\n",
        "plt.show()\n",
        "\n"
      ],
      "execution_count": 4,
      "outputs": [
        {
          "output_type": "display_data",
          "data": {
            "image/png": "[encoded data removed]",
            "text/plain": [
              "<Figure size 432x288 with 1 Axes>"
            ]
          },
          "metadata": {
            "tags": [],
            "needs_background": "light"
          }
        }
      ]
    },
    {
      "cell_type": "code",
      "metadata": {
        "colab": {
          "base_uri": "https://localhost:8080/",
          "height": 265
        },
        "id": "oA3dTCK1BsYM",
        "outputId": "2b855719-9418-4996-bb92-390e706566dd"
      },
      "source": [
        "def generator(x):\n",
        "    return math.floor(x*10) + 6\n",
        "  \n",
        "data=[]\n",
        "for i in range(10000):\n",
        "    data.append(generator(random.random()))\n",
        "\n",
        "plt.hist(data,density=True,alpha=0.5,rwidth=0.5,align='left',bins=range(6,17))\n",
        "plt.show()\n"
      ],
      "execution_count": 5,
      "outputs": [
        {
          "output_type": "display_data",
          "data": {
            "image/png": "[encoded data removed]",
            "text/plain": [
              "<Figure size 432x288 with 1 Axes>"
            ]
          },
          "metadata": {
            "tags": [],
            "needs_background": "light"
          }
        }
      ]
    },
    {
      "cell_type": "code",
      "metadata": {
        "colab": {
          "base_uri": "https://localhost:8080/",
          "height": 265
        },
        "id": "PA6Af2fHL4vd",
        "outputId": "76d3d62b-7bc4-4fcc-e4e6-b7ea3c36f154"
      },
      "source": [
        "#Graficación de la masa de probabilidad teorica\n",
        "masa=[]\n",
        "for i in range(5,17):\n",
        "    masa.append(masa_prob(i))\n",
        "\n",
        "plt.stem(range(5,17),masa,linefmt='red',use_line_collection=True)\n",
        "plt.show()"
      ],
      "execution_count": 6,
      "outputs": [
        {
          "output_type": "display_data",
          "data": {
            "image/png": "[encoded data removed]",
            "text/plain": [
              "<Figure size 432x288 with 1 Axes>"
            ]
          },
          "metadata": {
            "tags": [],
            "needs_background": "light"
          }
        }
      ]
    },
    {
      "cell_type": "markdown",
      "metadata": {
        "id": "LxFBs9MdWmri"
      },
      "source": [
        "Ejercicio 2"
      ]
    },
    {
      "cell_type": "code",
      "metadata": {
        "colab": {
          "base_uri": "https://localhost:8080/",
          "height": 265
        },
        "id": "APE371mcMC7K",
        "outputId": "6efe2736-3289-48ec-bc3b-0d85bd1f3da1"
      },
      "source": [
        "#Función que calcula la probabilidad\n",
        "def value_prob():\n",
        "    d={1:1/506}\n",
        "    c=1/506\n",
        "    for i in range(2,12):\n",
        "        c+=i**2/506\n",
        "        d[i]=c\n",
        "    return d\n",
        "    \n",
        "#Definimos la probabilidad\n",
        "prob=value_prob()\n",
        "\n",
        "#Función que calcula la función de masa de probabilidad de la variable aleatoria\n",
        "def masa_prob(x):\n",
        "    base=range(1,12)\n",
        "    \n",
        "    if x in base:\n",
        "        return x**2/506\n",
        "    return 0\n",
        "\n",
        "#Función que calcula la función probabilidad acumulada de la variable aleatoria\n",
        "def acumm_prob(x):\n",
        "    global prob\n",
        "    for i,j in prob.items():\n",
        "        if i+1>x>=i:\n",
        "            return prob[i]\n",
        "    if x>=15:\n",
        "        return 1\n",
        "    return 0\n",
        "\n",
        "#Función que simula la variable aleatoria\n",
        "def generator(x):\n",
        "    for i in range(1,12):\n",
        "        if acumm_prob(i)<x<=acumm_prob(i+1):\n",
        "            return i+1\n",
        "    return 1\n",
        "\n",
        "#Graficación del histograma\n",
        "data=[]\n",
        "for i in range(10000):\n",
        "    data.append(generator(random.random()))\n",
        "\n",
        "plt.hist(data,density=True,alpha=0.5,rwidth=0.5,align='left',bins=range(1,13))\n",
        "plt.show()\n"
      ],
      "execution_count": 7,
      "outputs": [
        {
          "output_type": "display_data",
          "data": {
            "image/png": "[encoded data removed]",
            "text/plain": [
              "<Figure size 432x288 with 1 Axes>"
            ]
          },
          "metadata": {
            "tags": [],
            "needs_background": "light"
          }
        }
      ]
    },
    {
      "cell_type": "code",
      "metadata": {
        "colab": {
          "base_uri": "https://localhost:8080/",
          "height": 268
        },
        "id": "xOBSFIJmMCoT",
        "outputId": "190489e5-db9e-4c08-f629-5373d3a0d359"
      },
      "source": [
        "#Graficación de la masa de probabilidad teorica\n",
        "masa=[]\n",
        "for i in range(0,13):\n",
        "    masa.append(masa_prob(i))\n",
        "\n",
        "plt.stem(range(0,13),masa,linefmt='red',use_line_collection=True)\n",
        "plt.show()"
      ],
      "execution_count": 8,
      "outputs": [
        {
          "output_type": "display_data",
          "data": {
            "image/png": "[encoded data removed]",
            "text/plain": [
              "<Figure size 432x288 with 1 Axes>"
            ]
          },
          "metadata": {
            "tags": [],
            "needs_background": "light"
          }
        }
      ]
    },
    {
      "cell_type": "markdown",
      "metadata": {
        "id": "c10PhE6LW94R"
      },
      "source": [
        "Ejercicio 3"
      ]
    },
    {
      "cell_type": "code",
      "metadata": {
        "colab": {
          "base_uri": "https://localhost:8080/",
          "height": 265
        },
        "id": "qh2WSJ6dMNCL",
        "outputId": "d4317928-1681-4f49-b02a-2a1f5b1a8778"
      },
      "source": [
        "#Definimos la probabilidad\n",
        "prob=11/16\n",
        "\n",
        "#Función que calcula la función de masa de probabilidad de la variable aleatoria\n",
        "def masa_prob(x):\n",
        "    global prob\n",
        "\n",
        "    return ((1-prob)**x)*prob\n",
        "    \n",
        "#Función que calcula la función probabilidad acumulada de la variable aleatoria\n",
        "def acumm_prob(x):\n",
        "    global prob\n",
        "    return 1-((1-prob)**(int(x)))\n",
        "\n",
        "#Función que simula la variable aleatoria\n",
        "def generator(x):\n",
        "    for i in range(0,11):\n",
        "        if acumm_prob(i)<x<=acumm_prob(i+1):\n",
        "            return i\n",
        "    return 1\n",
        "\n",
        "#Graficación del histograma\n",
        "data=[]\n",
        "for i in range(10000):\n",
        "    data.append(generator(random.random()))\n",
        "\n",
        "plt.hist(data,density=True,alpha=0.5,rwidth=0.5,align='left',bins=range(0,13))\n",
        "plt.show()\n"
      ],
      "execution_count": 9,
      "outputs": [
        {
          "output_type": "display_data",
          "data": {
            "image/png": "[encoded data removed]",
            "text/plain": [
              "<Figure size 432x288 with 1 Axes>"
            ]
          },
          "metadata": {
            "tags": [],
            "needs_background": "light"
          }
        }
      ]
    },
    {
      "cell_type": "code",
      "metadata": {
        "colab": {
          "base_uri": "https://localhost:8080/",
          "height": 265
        },
        "id": "jg1DklYdMM1D",
        "outputId": "fcc4b803-9429-4fd9-e784-f5532e0c09bf"
      },
      "source": [
        "#Graficación de la masa de probabilidad teorica\n",
        "masa=[]\n",
        "for i in range(0,10):\n",
        "    masa.append(masa_prob(i))\n",
        "\n",
        "plt.stem(range(0,10),masa,linefmt='red',use_line_collection=True)\n",
        "plt.show()\n"
      ],
      "execution_count": 10,
      "outputs": [
        {
          "output_type": "display_data",
          "data": {
            "image/png": "[encoded data removed]",
            "text/plain": [
              "<Figure size 432x288 with 1 Axes>"
            ]
          },
          "metadata": {
            "tags": [],
            "needs_background": "light"
          }
        }
      ]
    },
    {
      "cell_type": "markdown",
      "metadata": {
        "id": "2FQ_2aKCXHRK"
      },
      "source": [
        "# Punto C"
      ]
    },
    {
      "cell_type": "markdown",
      "metadata": {
        "id": "X7NA-w8KXVgy"
      },
      "source": [
        "Ejercicio 1"
      ]
    },
    {
      "cell_type": "code",
      "metadata": {
        "colab": {
          "base_uri": "https://localhost:8080/",
          "height": 265
        },
        "id": "Ha7gAuwtMR8r",
        "outputId": "9a280d87-50b2-4bc0-b636-3f1c58245def"
      },
      "source": [
        "#Definimos la probabilidad\n",
        "prob=1/11\n",
        "\n",
        "#Función que calcula la función de masa de probabilidad de la variable aleatoria\n",
        "def masa_prob(x):\n",
        "    global prob\n",
        "    if x>=0:\n",
        "        return prob*math.exp(-prob*x)\n",
        "    return 0\n",
        "\n",
        "#Función que calcula la función probabilidad acumulada de la variable aleatoria\n",
        "def acumm_prob(x):\n",
        "    global prob\n",
        "    if x>=0:\n",
        "        return 1-math.exp(-prob*x)\n",
        "    return 0\n",
        "\n",
        "#Función que simula la variable aleatoria\n",
        "def generator(x):\n",
        "    global prob\n",
        "    return math.log(1-x)/-prob\n",
        "    \n",
        "#Graficación del histograma con la densidad superpuesta\n",
        "data=[]\n",
        "for i in range(10000):\n",
        "    data.append(generator(random.random()))\n",
        "\n",
        "plt.hist(data,density=True,alpha=0.5,bins=50,histtype='bar',\n",
        "         ec='black')\n",
        "\n",
        "dominio=np.arange(-0.5,100,0.001)\n",
        "masa=[]\n",
        "\n",
        "for i in dominio:\n",
        "    masa.append(masa_prob(i))\n",
        "\n",
        "plt.plot(dominio,masa)\n",
        "\n",
        "plt.show()"
      ],
      "execution_count": 11,
      "outputs": [
        {
          "output_type": "display_data",
          "data": {
            "image/png": "[encoded data removed]",
            "text/plain": [
              "<Figure size 432x288 with 1 Axes>"
            ]
          },
          "metadata": {
            "tags": [],
            "needs_background": "light"
          }
        }
      ]
    },
    {
      "cell_type": "code",
      "metadata": {
        "colab": {
          "base_uri": "https://localhost:8080/",
          "height": 265
        },
        "id": "eQnaUukiMRwi",
        "outputId": "aa2ae3eb-e8ae-4898-ca61-779cfa4b48a4"
      },
      "source": [
        "acumm=[]\n",
        "\n",
        "for i in dominio:\n",
        "    acumm.append(acumm_prob(i))\n",
        "\n",
        "plt.plot(dominio,acumm)\n",
        "plt.show()"
      ],
      "execution_count": 12,
      "outputs": [
        {
          "output_type": "display_data",
          "data": {
            "image/png": "[encoded data removed]",
            "text/plain": [
              "<Figure size 432x288 with 1 Axes>"
            ]
          },
          "metadata": {
            "tags": [],
            "needs_background": "light"
          }
        }
      ]
    },
    {
      "cell_type": "markdown",
      "metadata": {
        "id": "i7cdFXS5X6Ne"
      },
      "source": [
        "Ejercicio 2"
      ]
    },
    {
      "cell_type": "code",
      "metadata": {
        "colab": {
          "base_uri": "https://localhost:8080/",
          "height": 265
        },
        "id": "XX2xBW3xHEfY",
        "outputId": "fd11b7e2-2ebb-4f1b-e633-bf2a7b76192c"
      },
      "source": [
        "#Función que calcula la función de masa de probabilidad de la variable aleatoria\n",
        "def masa_prob(x):\n",
        "    \n",
        "    if (x>=0 and  x<=2) or (x>=4 and  x<=6):\n",
        "        return 1/4\n",
        "    return 0\n",
        "\n",
        "#Función que calcula la función probabilidad acumulada de la variable aleatoria\n",
        "def acumm_prob(x):\n",
        "    \n",
        "    if x>=0 and x<=2:\n",
        "        return x/4\n",
        "    elif x>2 and x<4:\n",
        "        return 1/2\n",
        "    elif x>=4 and x<=6:\n",
        "        return x/4-1/2\n",
        "    elif x>6:\n",
        "        return 1\n",
        "    return 0\n",
        "\n",
        "#Función que simula la variable aleatoria\n",
        "def generator(x):\n",
        "    if x<1/2:\n",
        "        return 4*x\n",
        "    return 4*(x+1/2)\n",
        "    \n",
        "#Graficación del histograma con la densidad superpuesta\n",
        "data=[]\n",
        "for i in range(10000):\n",
        "    data.append(generator(random.random()))\n",
        "\n",
        "plt.hist(data,density=True,alpha=0.5,bins=30,histtype='bar', ec='black')\n",
        "\n",
        "dominio=np.arange(-0.5,8,0.001)\n",
        "masa=[]\n",
        "\n",
        "for i in dominio:\n",
        "    masa.append(masa_prob(i))\n",
        "\n",
        "plt.plot(dominio,masa)\n",
        "plt.show()\n"
      ],
      "execution_count": 13,
      "outputs": [
        {
          "output_type": "display_data",
          "data": {
            "image/png": "[encoded data removed]",
            "text/plain": [
              "<Figure size 432x288 with 1 Axes>"
            ]
          },
          "metadata": {
            "tags": [],
            "needs_background": "light"
          }
        }
      ]
    },
    {
      "cell_type": "code",
      "metadata": {
        "colab": {
          "base_uri": "https://localhost:8080/",
          "height": 265
        },
        "id": "JkkKNMKHP5cp",
        "outputId": "fcf0b6d9-8d07-4569-91cc-d1d1492279c2"
      },
      "source": [
        "acumm=[]\n",
        "\n",
        "for i in dominio:\n",
        "    acumm.append(acumm_prob(i))\n",
        "\n",
        "plt.plot(dominio,acumm)\n",
        "\n",
        "plt.show()"
      ],
      "execution_count": 14,
      "outputs": [
        {
          "output_type": "display_data",
          "data": {
            "image/png": "[encoded data removed]",
            "text/plain": [
              "<Figure size 432x288 with 1 Axes>"
            ]
          },
          "metadata": {
            "tags": [],
            "needs_background": "light"
          }
        }
      ]
    },
    {
      "cell_type": "markdown",
      "metadata": {
        "id": "7zHQafC4YbW4"
      },
      "source": [
        "Ejercicio 3"
      ]
    },
    {
      "cell_type": "code",
      "metadata": {
        "id": "EMXAObBWVyZB",
        "colab": {
          "base_uri": "https://localhost:8080/",
          "height": 266
        },
        "outputId": "94677142-7e14-45cf-a569-f6ae86f2353c"
      },
      "source": [
        "#Función que calcula la función de masa de probabilidad de la variable aleatoria\n",
        "def masa_prob(x):\n",
        "    \n",
        "    if (x>=0 and  x<=10) :\n",
        "        return x/150\n",
        "    elif (x>=10 and  x<=30) :\n",
        "        return 1/10-x/300\n",
        "    return 0\n",
        "\n",
        "#Función que calcula la función probabilidad acumulada de la variable aleatoria\n",
        "def acumm_prob(x):\n",
        "    \n",
        "    if x>=0 and x<=10:\n",
        "        return x**2/300\n",
        "    elif x>10 and x<=30:\n",
        "        return x/10+(-x**2)/600-1/2\n",
        "    elif x>30:\n",
        "        return 1\n",
        "    return 0\n",
        "\n",
        "#Función que simula la variable aleatoria\n",
        "def generator(x):\n",
        "    if x<=1/3:\n",
        "        return (x*300)**(1/2)\n",
        "    b=-60\n",
        "    c=-2400\n",
        "    z1=-(b+(c*x-c)**(1/2))/2\n",
        "    \n",
        "    return z1\n",
        "   \n",
        "    \n",
        "#Graficación del histograma con la densidad superpuesta\n",
        "data=[]\n",
        "for i in range(10000):\n",
        "    data.append(generator(random.random()))\n",
        "\n",
        "plt.hist(data,density=True,alpha=0.5,bins=30,histtype='bar', ec='black')\n",
        "\n",
        "dominio=np.arange(-0.5,40,0.001)\n",
        "masa=[]\n",
        "\n",
        "for i in dominio:\n",
        "    masa.append(masa_prob(i))\n",
        "\n",
        "plt.plot(dominio,masa)\n",
        "plt.show()\n"
      ],
      "execution_count": 15,
      "outputs": [
        {
          "output_type": "display_data",
          "data": {
            "image/png": "[encoded data removed]",
            "text/plain": [
              "<Figure size 432x288 with 1 Axes>"
            ]
          },
          "metadata": {
            "tags": [],
            "needs_background": "light"
          }
        }
      ]
    },
    {
      "cell_type": "code",
      "metadata": {
        "colab": {
          "base_uri": "https://localhost:8080/",
          "height": 265
        },
        "id": "B9T6VZL6bN9b",
        "outputId": "aefc0e81-61b8-4292-a730-98e3cdcfd3d6"
      },
      "source": [
        "acumm=[]\n",
        "\n",
        "for i in dominio:\n",
        "    acumm.append(acumm_prob(i))\n",
        "\n",
        "plt.plot(dominio,acumm)\n",
        "plt.show()"
      ],
      "execution_count": 16,
      "outputs": [
        {
          "output_type": "display_data",
          "data": {
            "image/png": "[encoded data removed]",
            "text/plain": [
              "<Figure size 432x288 with 1 Axes>"
            ]
          },
          "metadata": {
            "tags": [],
            "needs_background": "light"
          }
        }
      ]
    },
    {
      "cell_type": "markdown",
      "metadata": {
        "id": "Axoy86uEYwOT"
      },
      "source": [
        "# Punto D"
      ]
    },
    {
      "cell_type": "markdown",
      "metadata": {
        "id": "nSUSRKQoY3UE"
      },
      "source": [
        "Ejercicio 1"
      ]
    },
    {
      "cell_type": "code",
      "metadata": {
        "colab": {
          "base_uri": "https://localhost:8080/",
          "height": 265
        },
        "id": "Vl0Xj9MFc9Yk",
        "outputId": "f78e8d73-c6ea-48b5-e0fb-094ae030052c"
      },
      "source": [
        "#Simulación de la variable aleatoria para m=10000 \n",
        "simY=[]\n",
        "\n",
        "for i in range(0,10000):\n",
        "  simY.append(np.exp(np.random.normal()))\n",
        "\n",
        "#Función que calcula la función de densidad de una distribución lognormal\n",
        "def log_normal(x,media,var):\n",
        "    ex=np.exp(-(np.log(x)-media)**2/(2*var))\n",
        "    distribucion=ex/(x*(var*2*np.pi)**0.5)\n",
        "    return distribucion\n",
        "\n",
        "#Graficación de del histograma de variable aleatoria del ejercicio 1, con la función de densidad de una distribución lognormal superpuesta\n",
        "dominio=np.arange(0.001,12,0.001)\n",
        "rango=log_normal(dominio,0.3,0.5)\n",
        "data=np.random.normal(0.3,0.5**0.5,10000)\n",
        "y=np.exp(data)\n",
        "plt.hist(y,density=True,alpha=0.5, histtype='bar', ec='black',bins=np.linspace(0,11,50))\n",
        "plt.plot(dominio,rango)\n",
        "plt.show()"
      ],
      "execution_count": 17,
      "outputs": [
        {
          "output_type": "display_data",
          "data": {
            "image/png": "[encoded data removed]",
            "text/plain": [
              "<Figure size 432x288 with 1 Axes>"
            ]
          },
          "metadata": {
            "tags": [],
            "needs_background": "light"
          }
        }
      ]
    },
    {
      "cell_type": "code",
      "metadata": {
        "colab": {
          "base_uri": "https://localhost:8080/"
        },
        "id": "BUq2jPByemhF",
        "outputId": "56ceb24d-cdf2-4e47-ec4b-c83b916bd8c1"
      },
      "source": [
        "#Función que calcula los momentos, de manera teorica, de la variable aleatoria dada en el ejercicio 1 y 2\n",
        "def momentos(r,media,var):\n",
        "    return np.exp(media*r+var*r**2/2)\n",
        "print(\"Teorico : \",momentos(1,0.3,0.5),momentos(2,0.3,0.5),momentos(5,0.3,0.5))\n",
        "\n",
        "#Función que calcula los momentos, usando el metodo 3, de la varianle aleatoria dada en el ejercicio 1 y 2\n",
        "def metodo3(r,moment):\n",
        "    data=np.random.normal(0.3,0.5**0.5,r)\n",
        "    y=np.exp(data)**moment\n",
        "    return np.sum(y)/r\n",
        "x = PrettyTable() #Impresión de los datos en una tabla\n",
        "x.field_names = [\"  \",\"E[Y]\", \"E[Y**2]\", \"E[Y**5]\"]\n",
        "for i in [10,100,1000, 10000]:\n",
        "    x.add_row([\"r=\"+str(i),metodo3(i,1),metodo3(i,2),metodo3(i,5)])\n",
        "print(x)\n"
      ],
      "execution_count": 18,
      "outputs": [
        {
          "output_type": "stream",
          "text": [
            "Teorico :  1.7332530178673953 4.953032424395115 2321.572414611057\n",
            "+---------+--------------------+--------------------+--------------------+\n",
            "|         |        E[Y]        |      E[Y**2]       |      E[Y**5]       |\n",
            "+---------+--------------------+--------------------+--------------------+\n",
            "|   r=10  | 1.9863315814818132 | 1.9156448538816577 | 218.86633063730423 |\n",
            "|  r=100  | 1.6637756156577188 | 3.857643961411319  | 357.69270457451455 |\n",
            "|  r=1000 | 1.6842778745637952 | 4.3971798934032345 | 501.0530735629526  |\n",
            "| r=10000 | 1.7203727500036574 | 4.899056962930392  | 3524.0791418597773 |\n",
            "+---------+--------------------+--------------------+--------------------+\n"
          ],
          "name": "stdout"
        }
      ]
    },
    {
      "cell_type": "markdown",
      "metadata": {
        "id": "jEBnE1f3ZRj8"
      },
      "source": [
        "Ejercicio 2"
      ]
    },
    {
      "cell_type": "code",
      "metadata": {
        "colab": {
          "base_uri": "https://localhost:8080/",
          "height": 781
        },
        "id": "7dCT8x-9QVLq",
        "outputId": "57d20e9c-bee8-4761-96f4-4c378c27ed0e"
      },
      "source": [
        "#Función simulación, que utiliza el método 3 para m realizaciones independientes para un cierto r, y un momento definido\n",
        "def simulation(m,r,moment):\n",
        "    result=[]\n",
        "    for i in range(m):\n",
        "        result.append(metodo3(r,moment))\n",
        "    \n",
        "    return result\n",
        "\n",
        "#Evaluación y graficación para r=10,100,1000 y 10000, con m=10000\n",
        "plt.hist(simulation(10000,10,1),alpha=0.5, histtype='bar', ec='black',bins=np.linspace(0.5,4,50))\n",
        "plt.axvline(x=momentos(1,0.3,0.5), ymin=0, ymax=8000,color=\"red\")\n",
        "plt.grid()\n",
        "plt.show()\n",
        "\n",
        "plt.hist(simulation(10000,100,1),alpha=0.5, histtype='bar', ec='black',bins=np.linspace(1.3,2.5,50))\n",
        "plt.axvline(x=momentos(1,0.3,0.5), ymin=0, ymax=8000,color=\"red\")\n",
        "plt.grid()\n",
        "plt.show()\n",
        "\n",
        "plt.hist(simulation(10000,1000,1),alpha=0.5, histtype='bar', ec='black',bins=np.linspace(1.5,2,50))\n",
        "plt.axvline(x=momentos(1,0.3,0.5), ymin=0, ymax=8000,color=\"red\")\n",
        "plt.grid()\n",
        "plt.show()\n",
        "print(\"\")"
      ],
      "execution_count": 19,
      "outputs": [
        {
          "output_type": "display_data",
          "data": {
            "image/png": "[encoded data removed]",
            "text/plain": [
              "<Figure size 432x288 with 1 Axes>"
            ]
          },
          "metadata": {
            "tags": [],
            "needs_background": "light"
          }
        },
        {
          "output_type": "display_data",
          "data": {
            "image/png": "[encoded data removed]",
            "text/plain": [
              "<Figure size 432x288 with 1 Axes>"
            ]
          },
          "metadata": {
            "tags": [],
            "needs_background": "light"
          }
        },
        {
          "output_type": "display_data",
          "data": {
            "image/png": "[encoded data removed]",
            "text/plain": [
              "<Figure size 432x288 with 1 Axes>"
            ]
          },
          "metadata": {
            "tags": [],
            "needs_background": "light"
          }
        },
        {
          "output_type": "stream",
          "text": [
            "\n"
          ],
          "name": "stdout"
        }
      ]
    },
    {
      "cell_type": "markdown",
      "metadata": {
        "id": "pL_FqI6YZYUS"
      },
      "source": [
        "Parte Bonus"
      ]
    },
    {
      "cell_type": "code",
      "metadata": {
        "colab": {
          "base_uri": "https://localhost:8080/",
          "height": 1000
        },
        "id": "Sgs8k-HYdaoz",
        "outputId": "43170b5a-32b7-47f9-815f-b2d0b0876d57"
      },
      "source": [
        "#Función que implementa el método 3 para distribución de Cauchy\n",
        "\n",
        "def cauchy(r,m):\n",
        "    result=[]\n",
        "    for i in range(m):\n",
        "        a=np.random.standard_cauchy(r)\n",
        "        result.append(np.sum(1/a)/r)\n",
        "    return result\n",
        "\n",
        "#Evaluación y graficación para r=10,100,1000 y 10000, con m=10000\n",
        "plt.hist(cauchy(10,10000),density=True,alpha=0.5, histtype='bar', ec='black',bins=np.linspace(-10,10,70))\n",
        "plt.grid()\n",
        "plt.show()\n",
        "\n",
        "plt.hist(cauchy(100,10000),density=True,alpha=0.5, histtype='bar', ec='black',bins=np.linspace(-10,10,70))\n",
        "plt.grid()\n",
        "plt.show()\n",
        "\n",
        "plt.hist(cauchy(1000,10000),density=True,alpha=0.5, histtype='bar', ec='black',bins=np.linspace(-10,10,70))\n",
        "plt.grid()\n",
        "plt.show()\n",
        "\n",
        "plt.hist(cauchy(10000,10000),density=True,alpha=0.5, histtype='bar', ec='black',bins=np.linspace(-10,10,70))\n",
        "plt.grid()\n",
        "plt.show()"
      ],
      "execution_count": 20,
      "outputs": [
        {
          "output_type": "display_data",
          "data": {
            "image/png": "[encoded data removed]",
            "text/plain": [
              "<Figure size 432x288 with 1 Axes>"
            ]
          },
          "metadata": {
            "tags": [],
            "needs_background": "light"
          }
        },
        {
          "output_type": "display_data",
          "data": {
            "image/png": "[encoded data removed]",
            "text/plain": [
              "<Figure size 432x288 with 1 Axes>"
            ]
          },
          "metadata": {
            "tags": [],
            "needs_background": "light"
          }
        },
        {
          "output_type": "display_data",
          "data": {
            "image/png": "[encoded data removed]",
            "text/plain": [
              "<Figure size 432x288 with 1 Axes>"
            ]
          },
          "metadata": {
            "tags": [],
            "needs_background": "light"
          }
        },
        {
          "output_type": "display_data",
          "data": {
            "image/png": "[encoded data removed]",
            "text/plain": [
              "<Figure size 432x288 with 1 Axes>"
            ]
          },
          "metadata": {
            "tags": [],
            "needs_background": "light"
          }
        }
      ]
    },
    {
      "cell_type": "markdown",
      "metadata": {
        "id": "aM2jMNuNZkqe"
      },
      "source": [
        "# Punto E"
      ]
    },
    {
      "cell_type": "markdown",
      "metadata": {
        "id": "3eY91JscZx8Q"
      },
      "source": [
        "Ejercicio 1"
      ]
    },
    {
      "cell_type": "code",
      "metadata": {
        "colab": {
          "base_uri": "https://localhost:8080/"
        },
        "id": "AEodHBZ_XVhT",
        "outputId": "07545fe5-dab3-4777-8362-7d7b06e44cfe"
      },
      "source": [
        "#Función para integrar con método 3, para la primera integral\n",
        "def metodo3e2(a,b,r):\n",
        "    data=np.random.uniform(a,b,r)\n",
        "    y=1/((data)**5+1)\n",
        "    return (b-a)*np.sum(y)/r\n",
        "\n",
        "#Evaluación para r=10,100,1000 y 10000\n",
        "print(metodo3e2(11,21,10))\n",
        "print(metodo3e2(11,21,100))\n",
        "print(metodo3e2(11,21,1000))\n",
        "print(metodo3e2(11,21,10000))"
      ],
      "execution_count": 21,
      "outputs": [
        {
          "output_type": "stream",
          "text": [
            "1.3898463864893716e-05\n",
            "1.4833042701321046e-05\n",
            "1.6197282908553058e-05\n",
            "1.5728716810339678e-05\n"
          ],
          "name": "stdout"
        }
      ]
    },
    {
      "cell_type": "markdown",
      "metadata": {
        "id": "r4oA0B3pZzfQ"
      },
      "source": [
        "Ejercicio 2"
      ]
    },
    {
      "cell_type": "code",
      "metadata": {
        "colab": {
          "base_uri": "https://localhost:8080/"
        },
        "id": "DURVvaJiWbFL",
        "outputId": "5bf2cf17-0bc8-4095-d1fb-7131039deb02"
      },
      "source": [
        "#Función para integrar con método 3, para la segunda integral\n",
        "def metodo3e4(a,b,r):\n",
        "    data=np.random.uniform(a,b,r)\n",
        "    y=1/(np.log(data))\n",
        "    return (b-a)*np.sum(y)/r\n",
        "    \n",
        "#Evaluación para r=10,100,1000 y 10000\n",
        "print(metodo3e4(12,100,10))\n",
        "print(metodo3e4(12,100,100))\n",
        "print(metodo3e4(12,100,1000))\n",
        "print(metodo3e4(12,100,10000))\n",
        "\n"
      ],
      "execution_count": 22,
      "outputs": [
        {
          "output_type": "stream",
          "text": [
            "23.068030725541217\n",
            "23.341435134565046\n",
            "23.00196604655628\n",
            "23.13189145881132\n"
          ],
          "name": "stdout"
        }
      ]
    },
    {
      "cell_type": "markdown",
      "metadata": {
        "id": "RGuzwENoZ3Jo"
      },
      "source": [
        "Ejercicio 3"
      ]
    },
    {
      "cell_type": "code",
      "metadata": {
        "colab": {
          "base_uri": "https://localhost:8080/"
        },
        "id": "m44jFXnQYnDS",
        "outputId": "14f593c6-cac5-42d5-b8e7-6bb880ff508a"
      },
      "source": [
        "#Función para integrar con método 3, para la tercera integral\n",
        "def metodo3e7(a,b,r):\n",
        "    data=np.random.uniform(a,b,r)\n",
        "    y=np.sqrt((np.exp(data**2)+np.tan(data)))\n",
        "    return (b-a)*np.sum(y)/r\n",
        "    \n",
        "#Evaluación para r=10,100,1000 y 10000\n",
        "print(metodo3e7(0,1,10))\n",
        "print(metodo3e7(0,1,100))\n",
        "print(metodo3e7(0,1,1000))\n",
        "print(metodo3e7(0,1,10000))\n"
      ],
      "execution_count": 23,
      "outputs": [
        {
          "output_type": "stream",
          "text": [
            "1.257921689113893\n",
            "1.448553377532464\n",
            "1.414741718806842\n",
            "1.4089310598553049\n"
          ],
          "name": "stdout"
        }
      ]
    }
  ]
}